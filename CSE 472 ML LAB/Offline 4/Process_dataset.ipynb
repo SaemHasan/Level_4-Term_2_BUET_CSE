{
 "cells": [
  {
   "cell_type": "code",
   "execution_count": null,
   "metadata": {},
   "outputs": [],
   "source": [
    "import numpy as np\n",
    "import pandas as pd\n",
    "import math\n",
    "import os\n",
    "import cv2\n",
    "import matplotlib.pyplot as plt"
   ]
  },
  {
   "cell_type": "code",
   "execution_count": null,
   "metadata": {},
   "outputs": [],
   "source": [
    "IMAGE_DIM=50"
   ]
  },
  {
   "cell_type": "code",
   "execution_count": null,
   "metadata": {},
   "outputs": [],
   "source": [
    "DONT_INVERT_IMAGE_DIR = \"training-e\"\n",
    "def read_image(path):\n",
    "    img = cv2.imread(path, cv2.IMREAD_GRAYSCALE)\n",
    "    # Resizing the image\n",
    "    img = cv2.resize(img,(IMAGE_DIM, IMAGE_DIM))\n",
    "    # Displaying the image\n",
    "    # plt.imshow(img, cmap='gray')\n",
    "    # plt.show()\n",
    "    # print(img.shape)\n",
    "    img = np.array(img)\n",
    "    img = img.astype('float32')\n",
    "    # Inverting the image\n",
    "    if DONT_INVERT_IMAGE_DIR not in path:\n",
    "        img = 255 - img\n",
    "    # dilation\n",
    "    kernel = np.ones((2,2), np.uint8)\n",
    "    img = cv2.dilate(img, kernel, iterations=1)\n",
    "    # plt.imshow(img, cmap='gray')\n",
    "    # plt.show()\n",
    "    # print(img.shape)\n",
    "    img /= 255\n",
    "    # reshaping the image\n",
    "    img = img.reshape(IMAGE_DIM, IMAGE_DIM, 1) # 1 for grayscale\n",
    "    return img\n",
    "# read_image('./NumtaDB/training-e/e00002.png')"
   ]
  },
  {
   "cell_type": "code",
   "execution_count": null,
   "metadata": {},
   "outputs": [],
   "source": [
    "# https://pytorch.org/tutorials/beginner/basics/data_tutorial.html#creating-a-custom-dataset-for-your-files\n",
    "class CustomImageDataset:\n",
    "    def __init__(self, annotations_file, img_dir, transform=None, target_transform=None):\n",
    "        self.img_labels = pd.read_csv(annotations_file)\n",
    "        self.img_dir = img_dir\n",
    "        self.transform = transform\n",
    "        self.target_transform = target_transform\n",
    "\n",
    "    def __len__(self):\n",
    "        return len(self.img_labels)\n",
    "\n",
    "    def __getitem__(self, idx):\n",
    "        img_path = os.path.join(self.img_dir, self.img_labels.iloc[idx, 0])\n",
    "        image = read_image(img_path)\n",
    "        label = self.img_labels.iloc[idx, 3] # 3 is the column index of the label\n",
    "        # if self.transform:\n",
    "        #     image = self.transform(image)\n",
    "        # if self.target_transform:\n",
    "        #     label = self.target_transform(label)\n",
    "        return image, label"
   ]
  },
  {
   "cell_type": "code",
   "execution_count": null,
   "metadata": {},
   "outputs": [],
   "source": [
    "import numpy as np\n",
    "import os\n",
    "import cv2\n",
    "import pandas as pd\n",
    "\n",
    "class CustomDataLoader:\n",
    "    def __init__(self, dataset, batch_size=32, shuffle=False):\n",
    "        self.dataset = dataset\n",
    "        self.batch_size = batch_size\n",
    "        self.shuffle = shuffle\n",
    "        self.current_idx = 0\n",
    "\n",
    "    def __iter__(self):\n",
    "        return self\n",
    "\n",
    "    def __next__(self):\n",
    "        if self.current_idx >= len(self.dataset):\n",
    "            raise StopIteration\n",
    "        \n",
    "        # Get the next batch. If the batch size is larger than the number of\n",
    "        # remaining elements, just return the remaining elements.\n",
    "        if self.current_idx + self.batch_size > len(self.dataset):\n",
    "            batch = [self.dataset[i] for i in range(self.current_idx, len(self.dataset))]\n",
    "            self.current_idx = len(self.dataset)\n",
    "        else:\n",
    "            batch = [self.dataset[i] for i in range(self.current_idx, self.current_idx + self.batch_size)]\n",
    "            self.current_idx += self.batch_size\n",
    "        \n",
    "\n",
    "        if self.shuffle:\n",
    "            np.random.shuffle(batch)\n",
    "\n",
    "        images, labels = zip(*batch)\n",
    "        images = np.stack(images)\n",
    "        labels = np.stack(labels)\n",
    "\n",
    "        return images, labels\n",
    "\n",
    "annotations_file = \"./NumtaDB/training-d.csv\"\n",
    "img_dir = \"./NumtaDB/training-d\"\n",
    "dataset = CustomImageDataset(annotations_file, img_dir)\n",
    "dataloader = CustomDataLoader(dataset, batch_size=64, shuffle=False)\n",
    "\n",
    "for images, labels in dataloader:\n",
    "    print(images.shape, labels.shape)"
   ]
  },
  {
   "cell_type": "code",
   "execution_count": null,
   "metadata": {},
   "outputs": [],
   "source": [
    "img = cv2.imread('a00000.png', cv2.IMREAD_GRAYSCALE)\n",
    "print(img.shape)\n",
    "# Resizing the image\n",
    "img = cv2.resize(img,(IMAGE_DIM, IMAGE_DIM))\n",
    "# Displaying the image\n",
    "plt.imshow(img, cmap='gray')\n",
    "plt.show()\n",
    "print(img.shape)"
   ]
  },
  {
   "cell_type": "code",
   "execution_count": null,
   "metadata": {},
   "outputs": [],
   "source": [
    "# !jupyter nbconvert --to script analyzer.ipynb\n",
    "# !python analyzer.py"
   ]
  },
  {
   "cell_type": "code",
   "execution_count": null,
   "metadata": {},
   "outputs": [],
   "source": [
    "import numpy as np\n",
    "arr = np.array([[[20, 2, 3], [4, 15, 6]], [[7, 18, 9], [110, 11, 12]]])\n",
    "flat_idx = np.argmax(arr, axis=(2))\n",
    "ij_idx = np.unravel_index(flat_idx, arr.shape[:2])\n",
    "print(arr)\n",
    "print(flat_idx)\n",
    "print(ij_idx)"
   ]
  },
  {
   "cell_type": "code",
   "execution_count": null,
   "metadata": {},
   "outputs": [],
   "source": []
  }
 ],
 "metadata": {
  "kernelspec": {
   "display_name": "tf2",
   "language": "python",
   "name": "python3"
  },
  "language_info": {
   "codemirror_mode": {
    "name": "ipython",
    "version": 3
   },
   "file_extension": ".py",
   "mimetype": "text/x-python",
   "name": "python",
   "nbconvert_exporter": "python",
   "pygments_lexer": "ipython3",
   "version": "3.11.0"
  },
  "orig_nbformat": 4,
  "vscode": {
   "interpreter": {
    "hash": "cfd499bf418f77ed98604f368b9dcc9d49d2a51ff3f93a138504985eb88a9fa1"
   }
  }
 },
 "nbformat": 4,
 "nbformat_minor": 2
}
