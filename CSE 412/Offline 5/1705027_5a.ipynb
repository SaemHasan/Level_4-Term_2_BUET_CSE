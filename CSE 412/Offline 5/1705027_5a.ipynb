{
 "cells": [
  {
   "cell_type": "code",
   "execution_count": null,
   "metadata": {},
   "outputs": [],
   "source": [
    "# !pip install seaborn"
   ]
  },
  {
   "cell_type": "code",
   "execution_count": null,
   "metadata": {},
   "outputs": [],
   "source": [
    "import numpy as np\n",
    "import matplotlib.pyplot as plt\n",
    "import seaborn as sns\n",
    "import random\n",
    "import time"
   ]
  },
  {
   "cell_type": "code",
   "execution_count": null,
   "metadata": {},
   "outputs": [],
   "source": [
    "#input parameters\n",
    "random.seed(time.time())\n",
    "n = 100\n",
    "s_range = [1, 3, 5, 10]\n",
    "ITERATION = 10000"
   ]
  },
  {
   "cell_type": "code",
   "execution_count": null,
   "metadata": {},
   "outputs": [],
   "source": [
    "class MarriageProblem:\n",
    "    def __init__(self, n, s):\n",
    "        self.n = n # Population size\n",
    "        self.s = s # Success criteria\n",
    "        self.candidates = []\n",
    "        self.m = 0 # Starting Sample size\n",
    "        self.sample = [] # Starting Sample group\n",
    "        self.standard = None # Standard for selection\n",
    "        self.selected = 0 # Number of selected candidates\n",
    "        self.top_s = []\n",
    "    \n",
    "    def init(self):\n",
    "        self.candidates = []\n",
    "        self.sample = []\n",
    "        self.standard = None\n",
    "        self.selected = 0\n",
    "        self.top_s = []\n",
    "\n",
    "    def create_candidate(self, n):\n",
    "        # create a list of candidates\n",
    "        self.init()\n",
    "\n",
    "        # take 100 candidates from uniform distribution\n",
    "        self.candidates = np.random.uniform(0, 1, n)\n",
    "        # get top s candidates\n",
    "        self.candidates_copy = np.copy(self.candidates)\n",
    "        self.top_s = sorted(self.candidates_copy, reverse=True)[:self.s]\n",
    "        # check if the selected candidate is in the top s\n",
    "    \n",
    "    def create_sample(self, m):\n",
    "        if m >0:\n",
    "            self.m = m\n",
    "            # pick m candidates from the population randomly\n",
    "            self.sample = np.random.choice(self.candidates, m, replace=False)\n",
    "            # delete the selected candidates from the population\n",
    "            self.candidates = [x for x in self.candidates if x not in self.sample]\n",
    "        else:\n",
    "            self.sample = []\n",
    "            self.m = 0\n",
    "\n",
    "    def set_standard(self):\n",
    "        if self.m > 0:\n",
    "            self.standard = max(self.sample)\n",
    "        else:\n",
    "            self.standard = -1\n",
    "    \n",
    "    def interview(self):\n",
    "        found = False\n",
    "        for candidate in self.candidates:\n",
    "            if candidate > self.standard:\n",
    "                self.selected = candidate\n",
    "                found = True\n",
    "                break\n",
    "        if not found:\n",
    "            self.selected = self.candidates[0]\n",
    "        return self.selected\n",
    "    \n",
    "    def determine_success(self):\n",
    "        if self.selected in self.top_s:\n",
    "            return True\n",
    "        else:\n",
    "            return False\n",
    "    \n",
    "    def run(self, m, iterations=1000):\n",
    "        self.m = m\n",
    "        num_success = 0\n",
    "        \n",
    "        for i in range(iterations):\n",
    "            self.create_candidate(n)\n",
    "            self.create_sample(m)\n",
    "            self.set_standard()\n",
    "            self.interview()\n",
    "            if self.determine_success():\n",
    "                num_success += 1\n",
    "            # print(f\"selected: {self.selected}, standard: {self.standard}, s: {self.s}, success: {self.determine_success()}\")\n",
    "        sucess_rate = (num_success/iterations)*100\n",
    "        # print(f\"m:{self.m} --> Success rate: {sucess_rate}%\")\n",
    "        return sucess_rate"
   ]
  },
  {
   "cell_type": "code",
   "execution_count": null,
   "metadata": {},
   "outputs": [],
   "source": [
    "def plot2D(x, y, xlabel=\"x\", ylabel=\"y\", title=\"Title\", file_name=\"\"):\n",
    "    # plt.plot(x, y)\n",
    "    plt.cla()\n",
    "    plt.clf()\n",
    "    sns.lineplot(x=x, y=y)\n",
    "    plt.xlabel(xlabel)\n",
    "    plt.ylabel(ylabel)\n",
    "    plt.title(title)\n",
    "    # plt.show()\n",
    "    plt.savefig(f\"Plot2D_{file_name}.png\")"
   ]
  },
  {
   "cell_type": "code",
   "execution_count": null,
   "metadata": {},
   "outputs": [],
   "source": [
    "def plotHistogram(data, xlabel=\"x\", ylabel=\"y\", title=\"Title\"):\n",
    "    sns.displot(data, bins=20, kde=False)\n",
    "    plt.xlabel(xlabel)\n",
    "    plt.ylabel(ylabel)\n",
    "    plt.title(title)\n",
    "    plt.show()"
   ]
  },
  {
   "cell_type": "code",
   "execution_count": null,
   "metadata": {},
   "outputs": [],
   "source": [
    "for s in s_range:\n",
    "    print(f\"Success criteria: {s}\")\n",
    "    mp = MarriageProblem(n, s)\n",
    "    x = []\n",
    "    y = []\n",
    "    for m in range(0, n-1):\n",
    "        x.append(m)\n",
    "        y.append(mp.run(m, iterations=ITERATION))\n",
    "    plot2D(x, y, xlabel=\"m\", ylabel=\"Success Rate of a Strategy(m)\", title=f\"Success criteria: {s}\", file_name=str(s))\n",
    "    # plotHistogram(y, xlabel=f\"Success rate. Criteria:{s}\", ylabel=\"Frequency\", title=f\"Probability Distribution of Success of a Strategy(m)\")"
   ]
  }
 ],
 "metadata": {
  "kernelspec": {
   "display_name": "tf2",
   "language": "python",
   "name": "python3"
  },
  "language_info": {
   "codemirror_mode": {
    "name": "ipython",
    "version": 3
   },
   "file_extension": ".py",
   "mimetype": "text/x-python",
   "name": "python",
   "nbconvert_exporter": "python",
   "pygments_lexer": "ipython3",
   "version": "3.11.0"
  },
  "orig_nbformat": 4,
  "vscode": {
   "interpreter": {
    "hash": "cfd499bf418f77ed98604f368b9dcc9d49d2a51ff3f93a138504985eb88a9fa1"
   }
  }
 },
 "nbformat": 4,
 "nbformat_minor": 2
}
