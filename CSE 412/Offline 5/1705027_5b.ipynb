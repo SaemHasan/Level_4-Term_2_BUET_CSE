{
 "cells": [
  {
   "cell_type": "markdown",
   "source": [
    "# IMPORT LIBRARY"
   ],
   "metadata": {
    "collapsed": false,
    "pycharm": {
     "name": "#%% md\n"
    }
   }
  },
  {
   "cell_type": "code",
   "execution_count": null,
   "outputs": [],
   "source": [
    "import numpy as np\n",
    "import matplotlib.pyplot as plt\n",
    "import seaborn as sns"
   ],
   "metadata": {
    "collapsed": false,
    "pycharm": {
     "name": "#%%\n"
    }
   }
  },
  {
   "cell_type": "markdown",
   "source": [
    "# SET INPUT PARAMETERS"
   ],
   "metadata": {
    "collapsed": false,
    "pycharm": {
     "name": "#%% md\n"
    }
   }
  },
  {
   "cell_type": "code",
   "execution_count": null,
   "outputs": [],
   "source": [
    "ITERATIONS = 100000\n",
    "MAX_NUMBER_OF_NEUTRONS_AT_A_NODE_GENERATED = 3\n",
    "# NUMBER_OF_GENERATION = 3\n",
    "NUMBER_OF_GENERATION_RANGE = [1, 2, 3]\n",
    "\n",
    "NUMBER__OF_NEUTRONS_FOR_RESULT = [0, 1, 2, 3, 4]"
   ],
   "metadata": {
    "collapsed": false,
    "pycharm": {
     "name": "#%%\n"
    }
   }
  },
  {
   "cell_type": "markdown",
   "source": [
    "# PLOT BAR CHART FUNCTION"
   ],
   "metadata": {
    "collapsed": false,
    "pycharm": {
     "name": "#%% md\n"
    }
   }
  },
  {
   "cell_type": "code",
   "execution_count": null,
   "outputs": [],
   "source": [
    "def plotBarChart(x, y, color=\"r\", title=\"\", xlabel=\"\", ylabel=\"\"):\n",
    "    plt.bar(x, y, align='center', color=color)\n",
    "    plt.title(title)\n",
    "    plt.xlabel(xlabel)\n",
    "    plt.ylabel(ylabel)\n",
    "    plt.show()\n",
    "\n",
    "mapping = {}\n",
    "mapping[1]= \"st\"\n",
    "mapping[2]= \"nd\"\n",
    "mapping[3]= \"rd\"\n",
    "mapping[4]= \"th\""
   ],
   "metadata": {
    "collapsed": false,
    "pycharm": {
     "name": "#%%\n"
    }
   }
  },
  {
   "cell_type": "markdown",
   "source": [
    "# SET PROBABILITIES"
   ],
   "metadata": {
    "collapsed": false,
    "pycharm": {
     "name": "#%% md\n"
    }
   }
  },
  {
   "cell_type": "code",
   "execution_count": null,
   "outputs": [],
   "source": [
    "p0 = 0.4825\n",
    "def get_pi(i):\n",
    "    if i==0:\n",
    "        return p0    \n",
    "    p = 0.2126 * (0.5893 ** (i-1))\n",
    "    return p"
   ],
   "metadata": {
    "collapsed": false,
    "pycharm": {
     "name": "#%%\n"
    }
   }
  },
  {
   "cell_type": "code",
   "execution_count": null,
   "outputs": [],
   "source": [
    "def get_probability(n):\n",
    "    probabilities = []\n",
    "    for i in range(n+1):\n",
    "        probabilities.append(get_pi(i))\n",
    "    \n",
    "    sum_prob = sum(probabilities)\n",
    "    if sum_prob > 1:\n",
    "        print('Error: sum of probabilities is greater than 1')\n",
    "        exit(1)\n",
    "    elif sum_prob < 1:\n",
    "        add_prob = 1 - sum_prob\n",
    "        probabilities[0] = probabilities[0] + add_prob\n",
    "    \n",
    "    probabilities = np.array(probabilities)\n",
    "    return probabilities"
   ],
   "metadata": {
    "collapsed": false,
    "pycharm": {
     "name": "#%%\n"
    }
   }
  },
  {
   "cell_type": "code",
   "execution_count": null,
   "outputs": [],
   "source": [
    "def get_cumulative_probability(n):\n",
    "    probabilities = get_probability(n)\n",
    "    # print(probabilities)\n",
    "    cum_prob = np.cumsum(probabilities)\n",
    "    return cum_prob"
   ],
   "metadata": {
    "collapsed": false,
    "pycharm": {
     "name": "#%%\n"
    }
   }
  },
  {
   "cell_type": "markdown",
   "source": [
    "# NODE CLASS"
   ],
   "metadata": {
    "collapsed": false,
    "pycharm": {
     "name": "#%% md\n"
    }
   }
  },
  {
   "cell_type": "code",
   "execution_count": null,
   "outputs": [],
   "source": [
    "class Node:\n",
    "    def __init__(self, parent, depth, isRoot=False):\n",
    "        self.isRoot = isRoot\n",
    "        self.isLeaf = True\n",
    "        self.number_of_children = 0\n",
    "        self.parent = parent\n",
    "        self.depth = depth\n",
    "        self.children = []\n",
    "    \n",
    "    def __str__(self):\n",
    "        return f\"(children: {self.number_of_children}, depth: {self.depth})\"\n",
    "    \n",
    "    def add_child(self, child):\n",
    "        self.children.append(child)\n",
    "        self.number_of_children += 1\n",
    "        self.isLeaf = False\n",
    "    "
   ],
   "metadata": {
    "collapsed": false,
    "pycharm": {
     "name": "#%%\n"
    }
   }
  },
  {
   "cell_type": "markdown",
   "source": [
    "# NON BINARY TREE DS"
   ],
   "metadata": {
    "collapsed": false,
    "pycharm": {
     "name": "#%% md\n"
    }
   }
  },
  {
   "cell_type": "code",
   "execution_count": null,
   "outputs": [],
   "source": [
    "class Non_Binary_Tree:\n",
    "    def __init__(self):\n",
    "        self.root = Node(None, 0, isRoot=True)\n",
    "        self.nodes = []\n",
    "        self.tree_depth = 0\n",
    "    \n",
    "    def add_nodes(self, parent_node, n):\n",
    "        if n != 0:\n",
    "            for i in range(n):\n",
    "                node = Node(parent_node, depth=parent_node.depth+1)\n",
    "                parent_node.add_child(node)\n",
    "            \n",
    "            if parent_node.depth+1 > self.tree_depth:\n",
    "                self.tree_depth = parent_node.depth+1\n",
    "        else:\n",
    "            # print('number of nodes to add is 0')\n",
    "            return\n",
    "    # count number of nodes at depth using DFS\n",
    "    def DFS(self, node, depth, count):\n",
    "        if node.depth == depth:\n",
    "            count += 1\n",
    "        for child in node.children:\n",
    "            count = self.DFS(child, depth, count)\n",
    "        return count\n",
    "\n",
    "    def DFS_nodes(self, node, depth, nodes):\n",
    "        if node.depth == depth:\n",
    "            nodes.append(node)\n",
    "        for child in node.children:\n",
    "            nodes = self.DFS_nodes(child, depth, nodes)\n",
    "        return nodes\n",
    "    \n",
    "    def get_nodes_at_depth(self, depth):\n",
    "        nodes = []\n",
    "        nodes = self.DFS_nodes(self.root, depth, nodes)\n",
    "        return nodes\n",
    "\n",
    "    def get_nodes_number_at_depth(self, depth):\n",
    "        count = 0\n",
    "        count = self.DFS(self.root, depth, count)\n",
    "        return count\n",
    "    \n",
    "    def print_list(self, list):\n",
    "        for i in list:\n",
    "            print(i)\n",
    "\n",
    "    def print_tree(self):\n",
    "        print(f\"Tree depth: {self.tree_depth}\")\n",
    "        for i in range(self.tree_depth+1):\n",
    "            nodes = self.get_nodes_at_depth(i)\n",
    "            print(f\"Depth: {i} len : {len(nodes)} Nodes:\")\n",
    "            self.print_list(nodes)"
   ],
   "metadata": {
    "collapsed": false,
    "pycharm": {
     "name": "#%%\n"
    }
   }
  },
  {
   "cell_type": "markdown",
   "source": [
    "# Neutrons Class"
   ],
   "metadata": {
    "collapsed": false,
    "pycharm": {
     "name": "#%% md\n"
    }
   }
  },
  {
   "cell_type": "code",
   "execution_count": null,
   "outputs": [],
   "source": [
    "class Neutrons:\n",
    "    def __init__(self, max_neutrons_at_a_node=3, num_of_generation=2):\n",
    "        self.max_neutrons_at_a_node = max_neutrons_at_a_node\n",
    "        self.num_of_generation = num_of_generation\n",
    "        self.cumulative_probabilities = get_cumulative_probability(max_neutrons_at_a_node)\n",
    "\n",
    "    def get_generated_neutrons_number(self):\n",
    "        prob = np.random.uniform(0, 1)\n",
    "        neutrons = 0\n",
    "        for i in range(len(self.cumulative_probabilities)):\n",
    "            if prob <= self.cumulative_probabilities[i]:\n",
    "                neutrons = i\n",
    "                break\n",
    "        return neutrons\n",
    "\n",
    "    def generate_tree(self):\n",
    "        tree = Non_Binary_Tree()\n",
    "        root = tree.root\n",
    "\n",
    "        for i in range(self.num_of_generation):\n",
    "            nodes_at_depth = tree.get_nodes_at_depth(i)\n",
    "            for j in nodes_at_depth:\n",
    "                neutrons = self.get_generated_neutrons_number()\n",
    "                tree.add_nodes(j, neutrons)\n",
    "        self.tree = tree\n",
    "        return tree\n",
    "    \n",
    "    def get_number_of_nodes(self, generation_number):\n",
    "        if self.tree.tree_depth < generation_number:\n",
    "            # print(\"tree depth less than generation number\")\n",
    "            return 0\n",
    "        return self.tree.get_nodes_number_at_depth(generation_number)\n"
   ],
   "metadata": {
    "collapsed": false,
    "pycharm": {
     "name": "#%%\n"
    }
   }
  },
  {
   "cell_type": "code",
   "execution_count": null,
   "outputs": [],
   "source": [
    "# print cumalative probabilities\n",
    "prob = get_probability(MAX_NUMBER_OF_NEUTRONS_AT_A_NODE_GENERATED)\n",
    "cum_prob = get_cumulative_probability(MAX_NUMBER_OF_NEUTRONS_AT_A_NODE_GENERATED)\n",
    "for i in range(len(cum_prob)):\n",
    "    print(f\"probability of {i}th neutron: {prob[i]}, cumulative probability: {cum_prob[i]}\")"
   ],
   "metadata": {
    "collapsed": false,
    "pycharm": {
     "name": "#%%\n"
    }
   }
  },
  {
   "cell_type": "markdown",
   "source": [
    "# RUN SIMULATION"
   ],
   "metadata": {
    "collapsed": false,
    "pycharm": {
     "name": "#%% md\n"
    }
   }
  },
  {
   "cell_type": "code",
   "execution_count": null,
   "outputs": [],
   "source": [
    "for NUMBER_OF_GENERATION in NUMBER_OF_GENERATION_RANGE:\n",
    "    count_map ={}\n",
    "    for i in NUMBER__OF_NEUTRONS_FOR_RESULT:\n",
    "        count_map[i] = 0\n",
    "\n",
    "    for i in range(ITERATIONS):\n",
    "        neutrons = Neutrons(MAX_NUMBER_OF_NEUTRONS_AT_A_NODE_GENERATED, NUMBER_OF_GENERATION)\n",
    "        tree = neutrons.generate_tree()\n",
    "        # tree.print_tree()\n",
    "        num_neutrons_at_Nth_gen = neutrons.get_number_of_nodes(NUMBER_OF_GENERATION)\n",
    "        \n",
    "        if num_neutrons_at_Nth_gen in NUMBER__OF_NEUTRONS_FOR_RESULT:\n",
    "            count_map[num_neutrons_at_Nth_gen] += 1\n",
    "    # calculate probability\n",
    "    result = {}\n",
    "    print(f\"Number of generation: {NUMBER_OF_GENERATION}\")\n",
    "    if NUMBER_OF_GENERATION <=3:\n",
    "        gen_num = f\"{NUMBER_OF_GENERATION}{mapping[NUMBER_OF_GENERATION]}\"\n",
    "    else :\n",
    "        gen_num = f\"{NUMBER_OF_GENERATION}{mapping[4]}\"\n",
    "\n",
    "    for i in NUMBER__OF_NEUTRONS_FOR_RESULT:\n",
    "        result[i] = count_map[i]/ITERATIONS\n",
    "        print(f\"Probability of {i} neutrons at {gen_num} generation: {count_map[i]/ITERATIONS}\")\n",
    "    print(\"\\n\")\n",
    "    # plot bar chart    \n",
    "    # plotBarChart(result.keys(), result.values(), color='b', title=f\"Probability of neutrons at {gen_num} generation\", xlabel=\"Number of neutrons\", ylabel=\"Probability\")"
   ],
   "metadata": {
    "collapsed": false,
    "pycharm": {
     "name": "#%%\n"
    }
   }
  },
  {
   "cell_type": "code",
   "execution_count": 1039,
   "metadata": {
    "pycharm": {
     "name": "#%%\n"
    }
   },
   "outputs": [],
   "source": [
    "def plotBarChart(x, y, color=\"r\", title=\"\", xlabel=\"\", ylabel=\"\"):\n",
    "    plt.bar(x, y, align='center', color=color)\n",
    "    plt.title(title)\n",
    "    plt.xlabel(xlabel)\n",
    "    plt.ylabel(ylabel)\n",
    "    plt.show()\n",
    "\n",
    "mapping = {}\n",
    "mapping[1]= \"st\"\n",
    "mapping[2]= \"nd\"\n",
    "mapping[3]= \"rd\"\n",
    "mapping[4]= \"th\""
   ]
  },
  {
   "attachments": {},
   "cell_type": "markdown",
   "metadata": {
    "pycharm": {
     "name": "#%% md\n"
    }
   },
   "source": [
    "# SET PROBABILITIES"
   ]
  },
  {
   "cell_type": "code",
   "execution_count": 1040,
   "metadata": {
    "pycharm": {
     "name": "#%%\n"
    }
   },
   "outputs": [],
   "source": [
    "p0 = 0.4825\n",
    "def get_pi(i):\n",
    "    if i==0:\n",
    "        return p0    \n",
    "    p = 0.2126 * (0.5893 ** (i-1))\n",
    "    return p"
   ]
  },
  {
   "cell_type": "code",
   "execution_count": 1041,
   "metadata": {
    "pycharm": {
     "name": "#%%\n"
    }
   },
   "outputs": [],
   "source": [
    "def get_probability(n):\n",
    "    probabilities = []\n",
    "    for i in range(n+1):\n",
    "        probabilities.append(get_pi(i))\n",
    "    \n",
    "    sum_prob = sum(probabilities)\n",
    "    if sum_prob > 1:\n",
    "        print('Error: sum of probabilities is greater than 1')\n",
    "        exit(1)\n",
    "    elif sum_prob < 1:\n",
    "        add_prob = 1 - sum_prob\n",
    "        probabilities[0] = probabilities[0] + add_prob\n",
    "    \n",
    "    probabilities = np.array(probabilities)\n",
    "    return probabilities"
   ]
  },
  {
   "cell_type": "code",
   "execution_count": 1042,
   "metadata": {
    "pycharm": {
     "name": "#%%\n"
    }
   },
   "outputs": [],
   "source": [
    "def get_cumulative_probability(n):\n",
    "    probabilities = get_probability(n)\n",
    "    # print(probabilities)\n",
    "    cum_prob = np.cumsum(probabilities)\n",
    "    return cum_prob"
   ]
  },
  {
   "attachments": {},
   "cell_type": "markdown",
   "metadata": {
    "pycharm": {
     "name": "#%% md\n"
    }
   },
   "source": [
    "# NODE CLASS"
   ]
  },
  {
   "cell_type": "code",
   "execution_count": 1043,
   "metadata": {
    "pycharm": {
     "name": "#%%\n"
    }
   },
   "outputs": [],
   "source": [
    "class Node:\n",
    "    def __init__(self, parent, depth, isRoot=False):\n",
    "        self.isRoot = isRoot\n",
    "        self.isLeaf = True\n",
    "        self.number_of_children = 0\n",
    "        self.parent = parent\n",
    "        self.depth = depth\n",
    "        self.children = []\n",
    "    \n",
    "    def __str__(self):\n",
    "        return f\"(children: {self.number_of_children}, depth: {self.depth})\"\n",
    "    \n",
    "    def add_child(self, child):\n",
    "        self.children.append(child)\n",
    "        self.number_of_children += 1\n",
    "        self.isLeaf = False\n",
    "    "
   ]
  },
  {
   "attachments": {},
   "cell_type": "markdown",
   "metadata": {
    "pycharm": {
     "name": "#%% md\n"
    }
   },
   "source": [
    "# NON BINARY TREE DS"
   ]
  },
  {
   "cell_type": "code",
   "execution_count": 1044,
   "metadata": {
    "pycharm": {
     "name": "#%%\n"
    }
   },
   "outputs": [],
   "source": [
    "class Non_Binary_Tree:\n",
    "    def __init__(self):\n",
    "        self.root = Node(None, 0, isRoot=True)\n",
    "        self.nodes = []\n",
    "        self.tree_depth = 0\n",
    "    \n",
    "    def add_nodes(self, parent_node, n):\n",
    "        if n != 0:\n",
    "            for i in range(n):\n",
    "                node = Node(parent_node, depth=parent_node.depth+1)\n",
    "                parent_node.add_child(node)\n",
    "            \n",
    "            if parent_node.depth+1 > self.tree_depth:\n",
    "                self.tree_depth = parent_node.depth+1\n",
    "        else:\n",
    "            # print('number of nodes to add is 0')\n",
    "            return\n",
    "    # count number of nodes at depth using DFS\n",
    "    def DFS(self, node, depth, count):\n",
    "        if node.depth == depth:\n",
    "            count += 1\n",
    "        for child in node.children:\n",
    "            count = self.DFS(child, depth, count)\n",
    "        return count\n",
    "\n",
    "    def DFS_nodes(self, node, depth, nodes):\n",
    "        if node.depth == depth:\n",
    "            nodes.append(node)\n",
    "        for child in node.children:\n",
    "            nodes = self.DFS_nodes(child, depth, nodes)\n",
    "        return nodes\n",
    "    \n",
    "    def get_nodes_at_depth(self, depth):\n",
    "        nodes = []\n",
    "        nodes = self.DFS_nodes(self.root, depth, nodes)\n",
    "        return nodes\n",
    "\n",
    "    def get_nodes_number_at_depth(self, depth):\n",
    "        count = 0\n",
    "        count = self.DFS(self.root, depth, count)\n",
    "        return count\n",
    "    \n",
    "    def print_list(self, list):\n",
    "        for i in list:\n",
    "            print(i)\n",
    "\n",
    "    def print_tree(self):\n",
    "        print(f\"Tree depth: {self.tree_depth}\")\n",
    "        for i in range(self.tree_depth+1):\n",
    "            nodes = self.get_nodes_at_depth(i)\n",
    "            print(f\"Depth: {i} len : {len(nodes)} Nodes:\")\n",
    "            self.print_list(nodes)"
   ]
  },
  {
   "attachments": {},
   "cell_type": "markdown",
   "metadata": {
    "pycharm": {
     "name": "#%% md\n"
    }
   },
   "source": [
    "# Neutrons Class"
   ]
  },
  {
   "cell_type": "code",
   "execution_count": 1045,
   "metadata": {
    "pycharm": {
     "name": "#%%\n"
    }
   },
   "outputs": [],
   "source": [
    "class Neutrons:\n",
    "    def __init__(self, max_neutrons_at_a_node=3, num_of_generation=2):\n",
    "        self.max_neutrons_at_a_node = max_neutrons_at_a_node\n",
    "        self.num_of_generation = num_of_generation\n",
    "        self.cumulative_probabilities = get_cumulative_probability(max_neutrons_at_a_node)\n",
    "\n",
    "    def get_generated_neutrons_number(self):\n",
    "        prob = np.random.uniform(0, 1)\n",
    "        neutrons = 0\n",
    "        for i in range(len(self.cumulative_probabilities)):\n",
    "            if prob <= self.cumulative_probabilities[i]:\n",
    "                neutrons = i\n",
    "                break\n",
    "        return neutrons\n",
    "\n",
    "    def generate_tree(self):\n",
    "        tree = Non_Binary_Tree()\n",
    "        root = tree.root\n",
    "\n",
    "        for i in range(self.num_of_generation):\n",
    "            nodes_at_depth = tree.get_nodes_at_depth(i)\n",
    "            for j in nodes_at_depth:\n",
    "                neutrons = self.get_generated_neutrons_number()\n",
    "                tree.add_nodes(j, neutrons)\n",
    "        self.tree = tree\n",
    "        return tree\n",
    "    \n",
    "    def get_number_of_nodes(self, generation_number):\n",
    "        if self.tree.tree_depth < generation_number:\n",
    "            # print(\"tree depth less than generation number\")\n",
    "            return 0\n",
    "        return self.tree.get_nodes_number_at_depth(generation_number)\n"
   ]
  },
  {
   "cell_type": "code",
   "execution_count": 1046,
   "metadata": {
    "pycharm": {
     "name": "#%%\n"
    }
   },
   "outputs": [
    {
     "name": "stdout",
     "output_type": "stream",
     "text": [
      "probability of 0th neutron: 0.5882842634259999, cumulative probability: 0.5882842634259999\n",
      "probability of 1th neutron: 0.2126, cumulative probability: 0.8008842634259999\n",
      "probability of 2th neutron: 0.12528518000000002, cumulative probability: 0.9261694434259999\n",
      "probability of 3th neutron: 0.07383055657400002, cumulative probability: 1.0\n"
     ]
    }
   ],
   "source": [
    "# print cumalative probabilities\n",
    "prob = get_probability(MAX_NUMBER_OF_NEUTRONS_AT_A_NODE_GENERATED)\n",
    "cum_prob = get_cumulative_probability(MAX_NUMBER_OF_NEUTRONS_AT_A_NODE_GENERATED)\n",
    "for i in range(len(cum_prob)):\n",
    "    print(f\"probability of {i}th neutron: {prob[i]}, cumulative probability: {cum_prob[i]}\")"
   ]
  },
  {
   "attachments": {},
   "cell_type": "markdown",
   "metadata": {
    "pycharm": {
     "name": "#%% md\n"
    }
   },
   "source": [
    "# RUN SIMULATION"
   ]
  },
  {
   "cell_type": "code",
   "execution_count": 1047,
   "metadata": {
    "pycharm": {
     "name": "#%%\n"
    }
   },
   "outputs": [
    {
     "name": "stdout",
     "output_type": "stream",
     "text": [
      "Number of generation: 1\n",
      "Probability of 0 neutrons at 1st generation: 0.59017\n",
      "Probability of 1 neutrons at 1st generation: 0.21117\n",
      "Probability of 2 neutrons at 1st generation: 0.12495\n",
      "Probability of 3 neutrons at 1st generation: 0.07371\n",
      "Probability of 4 neutrons at 1st generation: 0.0\n",
      "\n",
      "\n",
      "Number of generation: 2\n",
      "Probability of 0 neutrons at 2nd generation: 0.77015\n",
      "Probability of 1 neutrons at 2nd generation: 0.09211\n",
      "Probability of 2 neutrons at 2nd generation: 0.06747\n",
      "Probability of 3 neutrons at 2nd generation: 0.04696\n",
      "Probability of 4 neutrons at 2nd generation: 0.01367\n",
      "\n",
      "\n",
      "Number of generation: 3\n",
      "Probability of 0 neutrons at 3rd generation: 0.85932\n",
      "Probability of 1 neutrons at 3rd generation: 0.04985\n",
      "Probability of 2 neutrons at 3rd generation: 0.03939\n",
      "Probability of 3 neutrons at 3rd generation: 0.0287\n",
      "Probability of 4 neutrons at 3rd generation: 0.01098\n",
      "\n",
      "\n"
     ]
    }
   ],
   "source": [
    "for NUMBER_OF_GENERATION in NUMBER_OF_GENERATION_RANGE:\n",
    "    count_map ={}\n",
    "    for i in NUMBER__OF_NEUTRONS_FOR_RESULT:\n",
    "        count_map[i] = 0\n",
    "\n",
    "    for i in range(ITERATIONS):\n",
    "        neutrons = Neutrons(MAX_NUMBER_OF_NEUTRONS_AT_A_NODE_GENERATED, NUMBER_OF_GENERATION)\n",
    "        tree = neutrons.generate_tree()\n",
    "        # tree.print_tree()\n",
    "        num_neutrons_at_Nth_gen = neutrons.get_number_of_nodes(NUMBER_OF_GENERATION)\n",
    "        \n",
    "        if num_neutrons_at_Nth_gen in NUMBER__OF_NEUTRONS_FOR_RESULT:\n",
    "            count_map[num_neutrons_at_Nth_gen] += 1\n",
    "    # calculate probability\n",
    "    result = {}\n",
    "    print(f\"Number of generation: {NUMBER_OF_GENERATION}\")\n",
    "    if NUMBER_OF_GENERATION <=3:\n",
    "        gen_num = f\"{NUMBER_OF_GENERATION}{mapping[NUMBER_OF_GENERATION]}\"\n",
    "    else :\n",
    "        gen_num = f\"{NUMBER_OF_GENERATION}{mapping[4]}\"\n",
    "\n",
    "    for i in NUMBER__OF_NEUTRONS_FOR_RESULT:\n",
    "        result[i] = count_map[i]/ITERATIONS\n",
    "        print(f\"Probability of {i} neutrons at {gen_num} generation: {count_map[i]/ITERATIONS}\")\n",
    "    print(\"\\n\")\n",
    "    # plot bar chart    \n",
    "    # plotBarChart(result.keys(), result.values(), color='b', title=f\"Probability of neutrons at {gen_num} generation\", xlabel=\"Number of neutrons\", ylabel=\"Probability\")"
   ]
  }
 ],
 "metadata": {
  "kernelspec": {
   "display_name": "tf2",
   "language": "python",
   "name": "python3"
  },
  "language_info": {
   "codemirror_mode": {
    "name": "ipython",
    "version": 3
   },
   "file_extension": ".py",
   "mimetype": "text/x-python",
   "name": "python",
   "nbconvert_exporter": "python",
   "pygments_lexer": "ipython3",
   "version": "3.11.0"
  },
  "orig_nbformat": 4,
  "vscode": {
   "interpreter": {
    "hash": "cfd499bf418f77ed98604f368b9dcc9d49d2a51ff3f93a138504985eb88a9fa1"
   }
  }
 },
 "nbformat": 4,
 "nbformat_minor": 2
}